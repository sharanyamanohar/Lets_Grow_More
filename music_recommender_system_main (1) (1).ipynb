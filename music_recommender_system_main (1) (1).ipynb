{
 "cells": [
  {
   "cell_type": "code",
   "execution_count": 1,
   "id": "42dfa7f7",
   "metadata": {},
   "outputs": [],
   "source": [
    "import pandas as pd"
   ]
  },
  {
   "cell_type": "code",
   "execution_count": 2,
   "id": "46ff91ae",
   "metadata": {},
   "outputs": [],
   "source": [
    "#members=pd.read_csv(r\"C:\\Users\\Admin\\Desktop\\Music_Recommender_system\\members.csv\")\n",
    "#submission=pd.read_csv(r\"C:\\Users\\Admin\\Desktop\\Music_Recommender_system\\sample_submission.csv\")\n",
    "songs_info=pd.read_csv(r\"C:\\Users\\Admin\\Desktop\\Music_Recommender_system\\song_extra_info.csv\")\n",
    "songs=pd.read_csv(r\"C:\\Users\\Admin\\Desktop\\Music_Recommender_system\\songs.csv\",nrows=20000)\n",
    "train=pd.read_csv(r\"C:\\Users\\Admin\\Desktop\\Music_Recommender_system\\train.csv\",nrows=20000)\n",
    "#test=pd.read_csv(r\"C:\\Users\\Admin\\Desktop\\Music_Recommender_system\\test.csv\")"
   ]
  },
  {
   "cell_type": "code",
   "execution_count": 3,
   "id": "9c699813",
   "metadata": {},
   "outputs": [],
   "source": [
    "#members.head()"
   ]
  },
  {
   "cell_type": "code",
   "execution_count": 4,
   "id": "81771a20",
   "metadata": {},
   "outputs": [],
   "source": [
    "#members.isnull().sum()"
   ]
  },
  {
   "cell_type": "code",
   "execution_count": 5,
   "id": "9b44fce5",
   "metadata": {},
   "outputs": [],
   "source": [
    "#submission.head()"
   ]
  },
  {
   "cell_type": "code",
   "execution_count": 6,
   "id": "b740faeb",
   "metadata": {},
   "outputs": [],
   "source": [
    "#submission.isnull().sum()"
   ]
  },
  {
   "cell_type": "code",
   "execution_count": 7,
   "id": "e8ca4299",
   "metadata": {},
   "outputs": [
    {
     "data": {
      "text/html": [
       "<div>\n",
       "<style scoped>\n",
       "    .dataframe tbody tr th:only-of-type {\n",
       "        vertical-align: middle;\n",
       "    }\n",
       "\n",
       "    .dataframe tbody tr th {\n",
       "        vertical-align: top;\n",
       "    }\n",
       "\n",
       "    .dataframe thead th {\n",
       "        text-align: right;\n",
       "    }\n",
       "</style>\n",
       "<table border=\"1\" class=\"dataframe\">\n",
       "  <thead>\n",
       "    <tr style=\"text-align: right;\">\n",
       "      <th></th>\n",
       "      <th>song_id</th>\n",
       "      <th>name</th>\n",
       "      <th>isrc</th>\n",
       "    </tr>\n",
       "  </thead>\n",
       "  <tbody>\n",
       "    <tr>\n",
       "      <th>0</th>\n",
       "      <td>LP7pLJoJFBvyuUwvu+oLzjT+bI+UeBPURCecJsX1jjs=</td>\n",
       "      <td>我們</td>\n",
       "      <td>TWUM71200043</td>\n",
       "    </tr>\n",
       "    <tr>\n",
       "      <th>1</th>\n",
       "      <td>ClazTFnk6r0Bnuie44bocdNMM3rdlrq0bCGAsGUWcHE=</td>\n",
       "      <td>Let Me Love You</td>\n",
       "      <td>QMZSY1600015</td>\n",
       "    </tr>\n",
       "    <tr>\n",
       "      <th>2</th>\n",
       "      <td>u2ja/bZE3zhCGxvbbOB3zOoUjx27u40cf5g09UXMoKQ=</td>\n",
       "      <td>原諒我</td>\n",
       "      <td>TWA530887303</td>\n",
       "    </tr>\n",
       "    <tr>\n",
       "      <th>3</th>\n",
       "      <td>92Fqsy0+p6+RHe2EoLKjHahORHR1Kq1TBJoClW9v+Ts=</td>\n",
       "      <td>Classic</td>\n",
       "      <td>USSM11301446</td>\n",
       "    </tr>\n",
       "    <tr>\n",
       "      <th>4</th>\n",
       "      <td>0QFmz/+rJy1Q56C1DuYqT9hKKqi5TUqx0sN0IwvoHrw=</td>\n",
       "      <td>愛投羅網</td>\n",
       "      <td>TWA471306001</td>\n",
       "    </tr>\n",
       "  </tbody>\n",
       "</table>\n",
       "</div>"
      ],
      "text/plain": [
       "                                        song_id             name          isrc\n",
       "0  LP7pLJoJFBvyuUwvu+oLzjT+bI+UeBPURCecJsX1jjs=               我們  TWUM71200043\n",
       "1  ClazTFnk6r0Bnuie44bocdNMM3rdlrq0bCGAsGUWcHE=  Let Me Love You  QMZSY1600015\n",
       "2  u2ja/bZE3zhCGxvbbOB3zOoUjx27u40cf5g09UXMoKQ=              原諒我  TWA530887303\n",
       "3  92Fqsy0+p6+RHe2EoLKjHahORHR1Kq1TBJoClW9v+Ts=          Classic  USSM11301446\n",
       "4  0QFmz/+rJy1Q56C1DuYqT9hKKqi5TUqx0sN0IwvoHrw=             愛投羅網  TWA471306001"
      ]
     },
     "execution_count": 7,
     "metadata": {},
     "output_type": "execute_result"
    }
   ],
   "source": [
    "songs_info.head()"
   ]
  },
  {
   "cell_type": "code",
   "execution_count": 8,
   "id": "d837e828",
   "metadata": {},
   "outputs": [
    {
     "data": {
      "text/plain": [
       "song_id         0\n",
       "name            2\n",
       "isrc       136548\n",
       "dtype: int64"
      ]
     },
     "execution_count": 8,
     "metadata": {},
     "output_type": "execute_result"
    }
   ],
   "source": [
    "songs_info.isnull().sum()"
   ]
  },
  {
   "cell_type": "code",
   "execution_count": null,
   "id": "c554d363",
   "metadata": {},
   "outputs": [],
   "source": []
  },
  {
   "cell_type": "code",
   "execution_count": 9,
   "id": "5d81ad7a",
   "metadata": {},
   "outputs": [
    {
     "data": {
      "text/html": [
       "<div>\n",
       "<style scoped>\n",
       "    .dataframe tbody tr th:only-of-type {\n",
       "        vertical-align: middle;\n",
       "    }\n",
       "\n",
       "    .dataframe tbody tr th {\n",
       "        vertical-align: top;\n",
       "    }\n",
       "\n",
       "    .dataframe thead th {\n",
       "        text-align: right;\n",
       "    }\n",
       "</style>\n",
       "<table border=\"1\" class=\"dataframe\">\n",
       "  <thead>\n",
       "    <tr style=\"text-align: right;\">\n",
       "      <th></th>\n",
       "      <th>song_id</th>\n",
       "      <th>song_length</th>\n",
       "      <th>genre_ids</th>\n",
       "      <th>artist_name</th>\n",
       "      <th>composer</th>\n",
       "      <th>lyricist</th>\n",
       "      <th>language</th>\n",
       "    </tr>\n",
       "  </thead>\n",
       "  <tbody>\n",
       "    <tr>\n",
       "      <th>0</th>\n",
       "      <td>CXoTN1eb7AI+DntdU1vbcwGRV4SCIDxZu+YD8JP8r4E=</td>\n",
       "      <td>247640</td>\n",
       "      <td>465</td>\n",
       "      <td>張信哲 (Jeff Chang)</td>\n",
       "      <td>董貞</td>\n",
       "      <td>何啟弘</td>\n",
       "      <td>3.0</td>\n",
       "    </tr>\n",
       "    <tr>\n",
       "      <th>1</th>\n",
       "      <td>o0kFgae9QtnYgRkVPqLJwa05zIhRlUjfF7O1tDw0ZDU=</td>\n",
       "      <td>197328</td>\n",
       "      <td>444</td>\n",
       "      <td>BLACKPINK</td>\n",
       "      <td>TEDDY|  FUTURE BOUNCE|  Bekuh BOOM</td>\n",
       "      <td>TEDDY</td>\n",
       "      <td>31.0</td>\n",
       "    </tr>\n",
       "    <tr>\n",
       "      <th>2</th>\n",
       "      <td>DwVvVurfpuz+XPuFvucclVQEyPqcpUkHR0ne1RQzPs0=</td>\n",
       "      <td>231781</td>\n",
       "      <td>465</td>\n",
       "      <td>SUPER JUNIOR</td>\n",
       "      <td>NaN</td>\n",
       "      <td>NaN</td>\n",
       "      <td>31.0</td>\n",
       "    </tr>\n",
       "    <tr>\n",
       "      <th>3</th>\n",
       "      <td>dKMBWoZyScdxSkihKG+Vf47nc18N9q4m58+b4e7dSSE=</td>\n",
       "      <td>273554</td>\n",
       "      <td>465</td>\n",
       "      <td>S.H.E</td>\n",
       "      <td>湯小康</td>\n",
       "      <td>徐世珍</td>\n",
       "      <td>3.0</td>\n",
       "    </tr>\n",
       "    <tr>\n",
       "      <th>4</th>\n",
       "      <td>W3bqWd3T+VeHFzHAUfARgW9AvVRaF4N5Yzm4Mr6Eo/o=</td>\n",
       "      <td>140329</td>\n",
       "      <td>726</td>\n",
       "      <td>貴族精選</td>\n",
       "      <td>Traditional</td>\n",
       "      <td>Traditional</td>\n",
       "      <td>52.0</td>\n",
       "    </tr>\n",
       "  </tbody>\n",
       "</table>\n",
       "</div>"
      ],
      "text/plain": [
       "                                        song_id  song_length genre_ids  \\\n",
       "0  CXoTN1eb7AI+DntdU1vbcwGRV4SCIDxZu+YD8JP8r4E=       247640       465   \n",
       "1  o0kFgae9QtnYgRkVPqLJwa05zIhRlUjfF7O1tDw0ZDU=       197328       444   \n",
       "2  DwVvVurfpuz+XPuFvucclVQEyPqcpUkHR0ne1RQzPs0=       231781       465   \n",
       "3  dKMBWoZyScdxSkihKG+Vf47nc18N9q4m58+b4e7dSSE=       273554       465   \n",
       "4  W3bqWd3T+VeHFzHAUfARgW9AvVRaF4N5Yzm4Mr6Eo/o=       140329       726   \n",
       "\n",
       "        artist_name                            composer     lyricist  language  \n",
       "0  張信哲 (Jeff Chang)                                  董貞          何啟弘       3.0  \n",
       "1         BLACKPINK  TEDDY|  FUTURE BOUNCE|  Bekuh BOOM        TEDDY      31.0  \n",
       "2      SUPER JUNIOR                                 NaN          NaN      31.0  \n",
       "3             S.H.E                                 湯小康          徐世珍       3.0  \n",
       "4              貴族精選                         Traditional  Traditional      52.0  "
      ]
     },
     "execution_count": 9,
     "metadata": {},
     "output_type": "execute_result"
    }
   ],
   "source": [
    "songs.head()"
   ]
  },
  {
   "cell_type": "code",
   "execution_count": 10,
   "id": "966dd38b",
   "metadata": {},
   "outputs": [
    {
     "data": {
      "text/plain": [
       "song_id            0\n",
       "song_length        0\n",
       "genre_ids        346\n",
       "artist_name        0\n",
       "composer        8382\n",
       "lyricist       14332\n",
       "language           0\n",
       "dtype: int64"
      ]
     },
     "execution_count": 10,
     "metadata": {},
     "output_type": "execute_result"
    }
   ],
   "source": [
    "songs.isnull().sum()"
   ]
  },
  {
   "cell_type": "code",
   "execution_count": 11,
   "id": "02739a0b",
   "metadata": {},
   "outputs": [],
   "source": [
    "songs['genre_ids'].fillna(' ',inplace=True)\n",
    "songs['composer'].fillna(' ',inplace=True)\n",
    "songs['lyricist'].fillna(' ',inplace=True)"
   ]
  },
  {
   "cell_type": "code",
   "execution_count": 12,
   "id": "d591670e",
   "metadata": {},
   "outputs": [
    {
     "data": {
      "text/plain": [
       "song_id        0\n",
       "song_length    0\n",
       "genre_ids      0\n",
       "artist_name    0\n",
       "composer       0\n",
       "lyricist       0\n",
       "language       0\n",
       "dtype: int64"
      ]
     },
     "execution_count": 12,
     "metadata": {},
     "output_type": "execute_result"
    }
   ],
   "source": [
    "songs.isnull().sum()"
   ]
  },
  {
   "cell_type": "code",
   "execution_count": 13,
   "id": "a4a4826d",
   "metadata": {},
   "outputs": [
    {
     "data": {
      "text/html": [
       "<div>\n",
       "<style scoped>\n",
       "    .dataframe tbody tr th:only-of-type {\n",
       "        vertical-align: middle;\n",
       "    }\n",
       "\n",
       "    .dataframe tbody tr th {\n",
       "        vertical-align: top;\n",
       "    }\n",
       "\n",
       "    .dataframe thead th {\n",
       "        text-align: right;\n",
       "    }\n",
       "</style>\n",
       "<table border=\"1\" class=\"dataframe\">\n",
       "  <thead>\n",
       "    <tr style=\"text-align: right;\">\n",
       "      <th></th>\n",
       "      <th>msno</th>\n",
       "      <th>song_id</th>\n",
       "      <th>source_system_tab</th>\n",
       "      <th>source_screen_name</th>\n",
       "      <th>source_type</th>\n",
       "      <th>target</th>\n",
       "    </tr>\n",
       "  </thead>\n",
       "  <tbody>\n",
       "    <tr>\n",
       "      <th>0</th>\n",
       "      <td>FGtllVqz18RPiwJj/edr2gV78zirAiY/9SmYvia+kCg=</td>\n",
       "      <td>BBzumQNXUHKdEBOB7mAJuzok+IJA1c2Ryg/yzTF6tik=</td>\n",
       "      <td>explore</td>\n",
       "      <td>Explore</td>\n",
       "      <td>online-playlist</td>\n",
       "      <td>1</td>\n",
       "    </tr>\n",
       "    <tr>\n",
       "      <th>1</th>\n",
       "      <td>Xumu+NIjS6QYVxDS4/t3SawvJ7viT9hPKXmf0RtLNx8=</td>\n",
       "      <td>bhp/MpSNoqoxOIB+/l8WPqu6jldth4DIpCm3ayXnJqM=</td>\n",
       "      <td>my library</td>\n",
       "      <td>Local playlist more</td>\n",
       "      <td>local-playlist</td>\n",
       "      <td>1</td>\n",
       "    </tr>\n",
       "    <tr>\n",
       "      <th>2</th>\n",
       "      <td>Xumu+NIjS6QYVxDS4/t3SawvJ7viT9hPKXmf0RtLNx8=</td>\n",
       "      <td>JNWfrrC7zNN7BdMpsISKa4Mw+xVJYNnxXh3/Epw7QgY=</td>\n",
       "      <td>my library</td>\n",
       "      <td>Local playlist more</td>\n",
       "      <td>local-playlist</td>\n",
       "      <td>1</td>\n",
       "    </tr>\n",
       "    <tr>\n",
       "      <th>3</th>\n",
       "      <td>Xumu+NIjS6QYVxDS4/t3SawvJ7viT9hPKXmf0RtLNx8=</td>\n",
       "      <td>2A87tzfnJTSWqD7gIZHisolhe4DMdzkbd6LzO1KHjNs=</td>\n",
       "      <td>my library</td>\n",
       "      <td>Local playlist more</td>\n",
       "      <td>local-playlist</td>\n",
       "      <td>1</td>\n",
       "    </tr>\n",
       "    <tr>\n",
       "      <th>4</th>\n",
       "      <td>FGtllVqz18RPiwJj/edr2gV78zirAiY/9SmYvia+kCg=</td>\n",
       "      <td>3qm6XTZ6MOCU11x8FIVbAGH5l5uMkT3/ZalWG1oo2Gc=</td>\n",
       "      <td>explore</td>\n",
       "      <td>Explore</td>\n",
       "      <td>online-playlist</td>\n",
       "      <td>1</td>\n",
       "    </tr>\n",
       "  </tbody>\n",
       "</table>\n",
       "</div>"
      ],
      "text/plain": [
       "                                           msno  \\\n",
       "0  FGtllVqz18RPiwJj/edr2gV78zirAiY/9SmYvia+kCg=   \n",
       "1  Xumu+NIjS6QYVxDS4/t3SawvJ7viT9hPKXmf0RtLNx8=   \n",
       "2  Xumu+NIjS6QYVxDS4/t3SawvJ7viT9hPKXmf0RtLNx8=   \n",
       "3  Xumu+NIjS6QYVxDS4/t3SawvJ7viT9hPKXmf0RtLNx8=   \n",
       "4  FGtllVqz18RPiwJj/edr2gV78zirAiY/9SmYvia+kCg=   \n",
       "\n",
       "                                        song_id source_system_tab  \\\n",
       "0  BBzumQNXUHKdEBOB7mAJuzok+IJA1c2Ryg/yzTF6tik=           explore   \n",
       "1  bhp/MpSNoqoxOIB+/l8WPqu6jldth4DIpCm3ayXnJqM=        my library   \n",
       "2  JNWfrrC7zNN7BdMpsISKa4Mw+xVJYNnxXh3/Epw7QgY=        my library   \n",
       "3  2A87tzfnJTSWqD7gIZHisolhe4DMdzkbd6LzO1KHjNs=        my library   \n",
       "4  3qm6XTZ6MOCU11x8FIVbAGH5l5uMkT3/ZalWG1oo2Gc=           explore   \n",
       "\n",
       "    source_screen_name      source_type  target  \n",
       "0              Explore  online-playlist       1  \n",
       "1  Local playlist more   local-playlist       1  \n",
       "2  Local playlist more   local-playlist       1  \n",
       "3  Local playlist more   local-playlist       1  \n",
       "4              Explore  online-playlist       1  "
      ]
     },
     "execution_count": 13,
     "metadata": {},
     "output_type": "execute_result"
    }
   ],
   "source": [
    "train.head()"
   ]
  },
  {
   "cell_type": "code",
   "execution_count": 14,
   "id": "4432bb1e",
   "metadata": {},
   "outputs": [
    {
     "data": {
      "text/plain": [
       "msno                    0\n",
       "song_id                 0\n",
       "source_system_tab      67\n",
       "source_screen_name    576\n",
       "source_type            50\n",
       "target                  0\n",
       "dtype: int64"
      ]
     },
     "execution_count": 14,
     "metadata": {},
     "output_type": "execute_result"
    }
   ],
   "source": [
    "train.isnull().sum()"
   ]
  },
  {
   "cell_type": "code",
   "execution_count": 15,
   "id": "a105bfb6",
   "metadata": {},
   "outputs": [
    {
     "data": {
      "text/html": [
       "<div>\n",
       "<style scoped>\n",
       "    .dataframe tbody tr th:only-of-type {\n",
       "        vertical-align: middle;\n",
       "    }\n",
       "\n",
       "    .dataframe tbody tr th {\n",
       "        vertical-align: top;\n",
       "    }\n",
       "\n",
       "    .dataframe thead th {\n",
       "        text-align: right;\n",
       "    }\n",
       "</style>\n",
       "<table border=\"1\" class=\"dataframe\">\n",
       "  <thead>\n",
       "    <tr style=\"text-align: right;\">\n",
       "      <th></th>\n",
       "      <th>msno</th>\n",
       "      <th>song_id</th>\n",
       "    </tr>\n",
       "  </thead>\n",
       "  <tbody>\n",
       "    <tr>\n",
       "      <th>0</th>\n",
       "      <td>FGtllVqz18RPiwJj/edr2gV78zirAiY/9SmYvia+kCg=</td>\n",
       "      <td>BBzumQNXUHKdEBOB7mAJuzok+IJA1c2Ryg/yzTF6tik=</td>\n",
       "    </tr>\n",
       "    <tr>\n",
       "      <th>1</th>\n",
       "      <td>Xumu+NIjS6QYVxDS4/t3SawvJ7viT9hPKXmf0RtLNx8=</td>\n",
       "      <td>bhp/MpSNoqoxOIB+/l8WPqu6jldth4DIpCm3ayXnJqM=</td>\n",
       "    </tr>\n",
       "    <tr>\n",
       "      <th>2</th>\n",
       "      <td>Xumu+NIjS6QYVxDS4/t3SawvJ7viT9hPKXmf0RtLNx8=</td>\n",
       "      <td>JNWfrrC7zNN7BdMpsISKa4Mw+xVJYNnxXh3/Epw7QgY=</td>\n",
       "    </tr>\n",
       "    <tr>\n",
       "      <th>3</th>\n",
       "      <td>Xumu+NIjS6QYVxDS4/t3SawvJ7viT9hPKXmf0RtLNx8=</td>\n",
       "      <td>2A87tzfnJTSWqD7gIZHisolhe4DMdzkbd6LzO1KHjNs=</td>\n",
       "    </tr>\n",
       "    <tr>\n",
       "      <th>4</th>\n",
       "      <td>FGtllVqz18RPiwJj/edr2gV78zirAiY/9SmYvia+kCg=</td>\n",
       "      <td>3qm6XTZ6MOCU11x8FIVbAGH5l5uMkT3/ZalWG1oo2Gc=</td>\n",
       "    </tr>\n",
       "  </tbody>\n",
       "</table>\n",
       "</div>"
      ],
      "text/plain": [
       "                                           msno  \\\n",
       "0  FGtllVqz18RPiwJj/edr2gV78zirAiY/9SmYvia+kCg=   \n",
       "1  Xumu+NIjS6QYVxDS4/t3SawvJ7viT9hPKXmf0RtLNx8=   \n",
       "2  Xumu+NIjS6QYVxDS4/t3SawvJ7viT9hPKXmf0RtLNx8=   \n",
       "3  Xumu+NIjS6QYVxDS4/t3SawvJ7viT9hPKXmf0RtLNx8=   \n",
       "4  FGtllVqz18RPiwJj/edr2gV78zirAiY/9SmYvia+kCg=   \n",
       "\n",
       "                                        song_id  \n",
       "0  BBzumQNXUHKdEBOB7mAJuzok+IJA1c2Ryg/yzTF6tik=  \n",
       "1  bhp/MpSNoqoxOIB+/l8WPqu6jldth4DIpCm3ayXnJqM=  \n",
       "2  JNWfrrC7zNN7BdMpsISKa4Mw+xVJYNnxXh3/Epw7QgY=  \n",
       "3  2A87tzfnJTSWqD7gIZHisolhe4DMdzkbd6LzO1KHjNs=  \n",
       "4  3qm6XTZ6MOCU11x8FIVbAGH5l5uMkT3/ZalWG1oo2Gc=  "
      ]
     },
     "execution_count": 15,
     "metadata": {},
     "output_type": "execute_result"
    }
   ],
   "source": [
    "train=train.drop(['source_system_tab','source_screen_name','source_type','target'],axis=1)\n",
    "train.head()"
   ]
  },
  {
   "cell_type": "code",
   "execution_count": 16,
   "id": "46e18962",
   "metadata": {},
   "outputs": [
    {
     "data": {
      "text/html": [
       "<div>\n",
       "<style scoped>\n",
       "    .dataframe tbody tr th:only-of-type {\n",
       "        vertical-align: middle;\n",
       "    }\n",
       "\n",
       "    .dataframe tbody tr th {\n",
       "        vertical-align: top;\n",
       "    }\n",
       "\n",
       "    .dataframe thead th {\n",
       "        text-align: right;\n",
       "    }\n",
       "</style>\n",
       "<table border=\"1\" class=\"dataframe\">\n",
       "  <thead>\n",
       "    <tr style=\"text-align: right;\">\n",
       "      <th></th>\n",
       "      <th>user_id</th>\n",
       "      <th>song_id</th>\n",
       "    </tr>\n",
       "  </thead>\n",
       "  <tbody>\n",
       "    <tr>\n",
       "      <th>0</th>\n",
       "      <td>FGtllVqz18RPiwJj/edr2gV78zirAiY/9SmYvia+kCg=</td>\n",
       "      <td>BBzumQNXUHKdEBOB7mAJuzok+IJA1c2Ryg/yzTF6tik=</td>\n",
       "    </tr>\n",
       "    <tr>\n",
       "      <th>1</th>\n",
       "      <td>Xumu+NIjS6QYVxDS4/t3SawvJ7viT9hPKXmf0RtLNx8=</td>\n",
       "      <td>bhp/MpSNoqoxOIB+/l8WPqu6jldth4DIpCm3ayXnJqM=</td>\n",
       "    </tr>\n",
       "    <tr>\n",
       "      <th>2</th>\n",
       "      <td>Xumu+NIjS6QYVxDS4/t3SawvJ7viT9hPKXmf0RtLNx8=</td>\n",
       "      <td>JNWfrrC7zNN7BdMpsISKa4Mw+xVJYNnxXh3/Epw7QgY=</td>\n",
       "    </tr>\n",
       "    <tr>\n",
       "      <th>3</th>\n",
       "      <td>Xumu+NIjS6QYVxDS4/t3SawvJ7viT9hPKXmf0RtLNx8=</td>\n",
       "      <td>2A87tzfnJTSWqD7gIZHisolhe4DMdzkbd6LzO1KHjNs=</td>\n",
       "    </tr>\n",
       "    <tr>\n",
       "      <th>4</th>\n",
       "      <td>FGtllVqz18RPiwJj/edr2gV78zirAiY/9SmYvia+kCg=</td>\n",
       "      <td>3qm6XTZ6MOCU11x8FIVbAGH5l5uMkT3/ZalWG1oo2Gc=</td>\n",
       "    </tr>\n",
       "  </tbody>\n",
       "</table>\n",
       "</div>"
      ],
      "text/plain": [
       "                                        user_id  \\\n",
       "0  FGtllVqz18RPiwJj/edr2gV78zirAiY/9SmYvia+kCg=   \n",
       "1  Xumu+NIjS6QYVxDS4/t3SawvJ7viT9hPKXmf0RtLNx8=   \n",
       "2  Xumu+NIjS6QYVxDS4/t3SawvJ7viT9hPKXmf0RtLNx8=   \n",
       "3  Xumu+NIjS6QYVxDS4/t3SawvJ7viT9hPKXmf0RtLNx8=   \n",
       "4  FGtllVqz18RPiwJj/edr2gV78zirAiY/9SmYvia+kCg=   \n",
       "\n",
       "                                        song_id  \n",
       "0  BBzumQNXUHKdEBOB7mAJuzok+IJA1c2Ryg/yzTF6tik=  \n",
       "1  bhp/MpSNoqoxOIB+/l8WPqu6jldth4DIpCm3ayXnJqM=  \n",
       "2  JNWfrrC7zNN7BdMpsISKa4Mw+xVJYNnxXh3/Epw7QgY=  \n",
       "3  2A87tzfnJTSWqD7gIZHisolhe4DMdzkbd6LzO1KHjNs=  \n",
       "4  3qm6XTZ6MOCU11x8FIVbAGH5l5uMkT3/ZalWG1oo2Gc=  "
      ]
     },
     "execution_count": 16,
     "metadata": {},
     "output_type": "execute_result"
    }
   ],
   "source": [
    "train.rename(columns={'msno':'user_id'},inplace=True)\n",
    "train.head()"
   ]
  },
  {
   "cell_type": "code",
   "execution_count": 17,
   "id": "252bbca4",
   "metadata": {},
   "outputs": [],
   "source": [
    "#test.head()"
   ]
  },
  {
   "cell_type": "code",
   "execution_count": 18,
   "id": "792c2668",
   "metadata": {},
   "outputs": [],
   "source": [
    "#test.isnull().sum()"
   ]
  },
  {
   "cell_type": "code",
   "execution_count": 19,
   "id": "31673997",
   "metadata": {},
   "outputs": [
    {
     "data": {
      "text/plain": [
       "(20000, 2)"
      ]
     },
     "execution_count": 19,
     "metadata": {},
     "output_type": "execute_result"
    }
   ],
   "source": [
    "train.shape"
   ]
  },
  {
   "cell_type": "markdown",
   "id": "dc0f8a7c",
   "metadata": {},
   "source": [
    "### Data preprocessing "
   ]
  },
  {
   "cell_type": "code",
   "execution_count": 20,
   "id": "b7c38b8c",
   "metadata": {},
   "outputs": [],
   "source": [
    "df=train.merge(songs,on='song_id')"
   ]
  },
  {
   "cell_type": "code",
   "execution_count": 21,
   "id": "e2339713",
   "metadata": {},
   "outputs": [
    {
     "data": {
      "text/html": [
       "<div>\n",
       "<style scoped>\n",
       "    .dataframe tbody tr th:only-of-type {\n",
       "        vertical-align: middle;\n",
       "    }\n",
       "\n",
       "    .dataframe tbody tr th {\n",
       "        vertical-align: top;\n",
       "    }\n",
       "\n",
       "    .dataframe thead th {\n",
       "        text-align: right;\n",
       "    }\n",
       "</style>\n",
       "<table border=\"1\" class=\"dataframe\">\n",
       "  <thead>\n",
       "    <tr style=\"text-align: right;\">\n",
       "      <th></th>\n",
       "      <th>user_id</th>\n",
       "      <th>song_id</th>\n",
       "      <th>genre_ids</th>\n",
       "      <th>artist_name</th>\n",
       "      <th>composer</th>\n",
       "      <th>lyricist</th>\n",
       "    </tr>\n",
       "  </thead>\n",
       "  <tbody>\n",
       "    <tr>\n",
       "      <th>0</th>\n",
       "      <td>FGtllVqz18RPiwJj/edr2gV78zirAiY/9SmYvia+kCg=</td>\n",
       "      <td>3Hg5kugV1S0wzEVLAEfqjIV5UHzb7bCrdBRQlGygLvU=</td>\n",
       "      <td>1259</td>\n",
       "      <td>Desiigner</td>\n",
       "      <td>Sidney Selby| Adnan Khan</td>\n",
       "      <td></td>\n",
       "    </tr>\n",
       "    <tr>\n",
       "      <th>1</th>\n",
       "      <td>hZyOA+0yqClPLt6uIEndf8fG8szH/95eKMbaxLE5z30=</td>\n",
       "      <td>3Hg5kugV1S0wzEVLAEfqjIV5UHzb7bCrdBRQlGygLvU=</td>\n",
       "      <td>1259</td>\n",
       "      <td>Desiigner</td>\n",
       "      <td>Sidney Selby| Adnan Khan</td>\n",
       "      <td></td>\n",
       "    </tr>\n",
       "    <tr>\n",
       "      <th>2</th>\n",
       "      <td>0LhkakIQDn36HZXI6ClQSO7W7jkpZAy+9MvYgPOZGrA=</td>\n",
       "      <td>skehue/d/R59G71dXYpntDwdjRRPlweN3JE8g40TgZU=</td>\n",
       "      <td>458</td>\n",
       "      <td>莊心妍</td>\n",
       "      <td>鄭建浩</td>\n",
       "      <td>鄭建浩</td>\n",
       "    </tr>\n",
       "    <tr>\n",
       "      <th>3</th>\n",
       "      <td>MofmAMt7P8LIcF4+LLlcjyIhYUzmv13L/LRwYFxiGYE=</td>\n",
       "      <td>skehue/d/R59G71dXYpntDwdjRRPlweN3JE8g40TgZU=</td>\n",
       "      <td>458</td>\n",
       "      <td>莊心妍</td>\n",
       "      <td>鄭建浩</td>\n",
       "      <td>鄭建浩</td>\n",
       "    </tr>\n",
       "    <tr>\n",
       "      <th>4</th>\n",
       "      <td>U9Z+N+szYGJHTPMn/C0V7yIyIC24fDI0RDRWChXATkg=</td>\n",
       "      <td>skehue/d/R59G71dXYpntDwdjRRPlweN3JE8g40TgZU=</td>\n",
       "      <td>458</td>\n",
       "      <td>莊心妍</td>\n",
       "      <td>鄭建浩</td>\n",
       "      <td>鄭建浩</td>\n",
       "    </tr>\n",
       "  </tbody>\n",
       "</table>\n",
       "</div>"
      ],
      "text/plain": [
       "                                        user_id  \\\n",
       "0  FGtllVqz18RPiwJj/edr2gV78zirAiY/9SmYvia+kCg=   \n",
       "1  hZyOA+0yqClPLt6uIEndf8fG8szH/95eKMbaxLE5z30=   \n",
       "2  0LhkakIQDn36HZXI6ClQSO7W7jkpZAy+9MvYgPOZGrA=   \n",
       "3  MofmAMt7P8LIcF4+LLlcjyIhYUzmv13L/LRwYFxiGYE=   \n",
       "4  U9Z+N+szYGJHTPMn/C0V7yIyIC24fDI0RDRWChXATkg=   \n",
       "\n",
       "                                        song_id genre_ids artist_name  \\\n",
       "0  3Hg5kugV1S0wzEVLAEfqjIV5UHzb7bCrdBRQlGygLvU=      1259   Desiigner   \n",
       "1  3Hg5kugV1S0wzEVLAEfqjIV5UHzb7bCrdBRQlGygLvU=      1259   Desiigner   \n",
       "2  skehue/d/R59G71dXYpntDwdjRRPlweN3JE8g40TgZU=       458         莊心妍   \n",
       "3  skehue/d/R59G71dXYpntDwdjRRPlweN3JE8g40TgZU=       458         莊心妍   \n",
       "4  skehue/d/R59G71dXYpntDwdjRRPlweN3JE8g40TgZU=       458         莊心妍   \n",
       "\n",
       "                   composer lyricist  \n",
       "0  Sidney Selby| Adnan Khan           \n",
       "1  Sidney Selby| Adnan Khan           \n",
       "2                       鄭建浩      鄭建浩  \n",
       "3                       鄭建浩      鄭建浩  \n",
       "4                       鄭建浩      鄭建浩  "
      ]
     },
     "execution_count": 21,
     "metadata": {},
     "output_type": "execute_result"
    }
   ],
   "source": [
    "df=df.drop(['song_length','language'],axis=1)\n",
    "df.head()"
   ]
  },
  {
   "cell_type": "code",
   "execution_count": 22,
   "id": "31af3334",
   "metadata": {},
   "outputs": [
    {
     "data": {
      "text/html": [
       "<div>\n",
       "<style scoped>\n",
       "    .dataframe tbody tr th:only-of-type {\n",
       "        vertical-align: middle;\n",
       "    }\n",
       "\n",
       "    .dataframe tbody tr th {\n",
       "        vertical-align: top;\n",
       "    }\n",
       "\n",
       "    .dataframe thead th {\n",
       "        text-align: right;\n",
       "    }\n",
       "</style>\n",
       "<table border=\"1\" class=\"dataframe\">\n",
       "  <thead>\n",
       "    <tr style=\"text-align: right;\">\n",
       "      <th></th>\n",
       "      <th>user_id</th>\n",
       "      <th>song_id</th>\n",
       "      <th>genre_ids</th>\n",
       "      <th>artist_name</th>\n",
       "      <th>composer</th>\n",
       "      <th>lyricist</th>\n",
       "      <th>name</th>\n",
       "    </tr>\n",
       "  </thead>\n",
       "  <tbody>\n",
       "    <tr>\n",
       "      <th>0</th>\n",
       "      <td>FGtllVqz18RPiwJj/edr2gV78zirAiY/9SmYvia+kCg=</td>\n",
       "      <td>3Hg5kugV1S0wzEVLAEfqjIV5UHzb7bCrdBRQlGygLvU=</td>\n",
       "      <td>1259</td>\n",
       "      <td>Desiigner</td>\n",
       "      <td>Sidney Selby| Adnan Khan</td>\n",
       "      <td></td>\n",
       "      <td>Panda</td>\n",
       "    </tr>\n",
       "    <tr>\n",
       "      <th>1</th>\n",
       "      <td>hZyOA+0yqClPLt6uIEndf8fG8szH/95eKMbaxLE5z30=</td>\n",
       "      <td>3Hg5kugV1S0wzEVLAEfqjIV5UHzb7bCrdBRQlGygLvU=</td>\n",
       "      <td>1259</td>\n",
       "      <td>Desiigner</td>\n",
       "      <td>Sidney Selby| Adnan Khan</td>\n",
       "      <td></td>\n",
       "      <td>Panda</td>\n",
       "    </tr>\n",
       "    <tr>\n",
       "      <th>2</th>\n",
       "      <td>0LhkakIQDn36HZXI6ClQSO7W7jkpZAy+9MvYgPOZGrA=</td>\n",
       "      <td>skehue/d/R59G71dXYpntDwdjRRPlweN3JE8g40TgZU=</td>\n",
       "      <td>458</td>\n",
       "      <td>莊心妍</td>\n",
       "      <td>鄭建浩</td>\n",
       "      <td>鄭建浩</td>\n",
       "      <td>我過的很好</td>\n",
       "    </tr>\n",
       "    <tr>\n",
       "      <th>3</th>\n",
       "      <td>MofmAMt7P8LIcF4+LLlcjyIhYUzmv13L/LRwYFxiGYE=</td>\n",
       "      <td>skehue/d/R59G71dXYpntDwdjRRPlweN3JE8g40TgZU=</td>\n",
       "      <td>458</td>\n",
       "      <td>莊心妍</td>\n",
       "      <td>鄭建浩</td>\n",
       "      <td>鄭建浩</td>\n",
       "      <td>我過的很好</td>\n",
       "    </tr>\n",
       "    <tr>\n",
       "      <th>4</th>\n",
       "      <td>U9Z+N+szYGJHTPMn/C0V7yIyIC24fDI0RDRWChXATkg=</td>\n",
       "      <td>skehue/d/R59G71dXYpntDwdjRRPlweN3JE8g40TgZU=</td>\n",
       "      <td>458</td>\n",
       "      <td>莊心妍</td>\n",
       "      <td>鄭建浩</td>\n",
       "      <td>鄭建浩</td>\n",
       "      <td>我過的很好</td>\n",
       "    </tr>\n",
       "  </tbody>\n",
       "</table>\n",
       "</div>"
      ],
      "text/plain": [
       "                                        user_id  \\\n",
       "0  FGtllVqz18RPiwJj/edr2gV78zirAiY/9SmYvia+kCg=   \n",
       "1  hZyOA+0yqClPLt6uIEndf8fG8szH/95eKMbaxLE5z30=   \n",
       "2  0LhkakIQDn36HZXI6ClQSO7W7jkpZAy+9MvYgPOZGrA=   \n",
       "3  MofmAMt7P8LIcF4+LLlcjyIhYUzmv13L/LRwYFxiGYE=   \n",
       "4  U9Z+N+szYGJHTPMn/C0V7yIyIC24fDI0RDRWChXATkg=   \n",
       "\n",
       "                                        song_id genre_ids artist_name  \\\n",
       "0  3Hg5kugV1S0wzEVLAEfqjIV5UHzb7bCrdBRQlGygLvU=      1259   Desiigner   \n",
       "1  3Hg5kugV1S0wzEVLAEfqjIV5UHzb7bCrdBRQlGygLvU=      1259   Desiigner   \n",
       "2  skehue/d/R59G71dXYpntDwdjRRPlweN3JE8g40TgZU=       458         莊心妍   \n",
       "3  skehue/d/R59G71dXYpntDwdjRRPlweN3JE8g40TgZU=       458         莊心妍   \n",
       "4  skehue/d/R59G71dXYpntDwdjRRPlweN3JE8g40TgZU=       458         莊心妍   \n",
       "\n",
       "                   composer lyricist   name  \n",
       "0  Sidney Selby| Adnan Khan           Panda  \n",
       "1  Sidney Selby| Adnan Khan           Panda  \n",
       "2                       鄭建浩      鄭建浩  我過的很好  \n",
       "3                       鄭建浩      鄭建浩  我過的很好  \n",
       "4                       鄭建浩      鄭建浩  我過的很好  "
      ]
     },
     "execution_count": 22,
     "metadata": {},
     "output_type": "execute_result"
    }
   ],
   "source": [
    "df=df.merge(songs_info,on='song_id').drop('isrc',axis=1)\n",
    "df.head()"
   ]
  },
  {
   "cell_type": "code",
   "execution_count": 23,
   "id": "d193dace",
   "metadata": {},
   "outputs": [
    {
     "data": {
      "text/html": [
       "<div>\n",
       "<style scoped>\n",
       "    .dataframe tbody tr th:only-of-type {\n",
       "        vertical-align: middle;\n",
       "    }\n",
       "\n",
       "    .dataframe tbody tr th {\n",
       "        vertical-align: top;\n",
       "    }\n",
       "\n",
       "    .dataframe thead th {\n",
       "        text-align: right;\n",
       "    }\n",
       "</style>\n",
       "<table border=\"1\" class=\"dataframe\">\n",
       "  <thead>\n",
       "    <tr style=\"text-align: right;\">\n",
       "      <th></th>\n",
       "      <th>user_id</th>\n",
       "      <th>song_id</th>\n",
       "      <th>genre_ids</th>\n",
       "      <th>artist_name</th>\n",
       "      <th>composer</th>\n",
       "      <th>lyricist</th>\n",
       "      <th>song_name</th>\n",
       "    </tr>\n",
       "  </thead>\n",
       "  <tbody>\n",
       "    <tr>\n",
       "      <th>0</th>\n",
       "      <td>FGtllVqz18RPiwJj/edr2gV78zirAiY/9SmYvia+kCg=</td>\n",
       "      <td>3Hg5kugV1S0wzEVLAEfqjIV5UHzb7bCrdBRQlGygLvU=</td>\n",
       "      <td>1259</td>\n",
       "      <td>Desiigner</td>\n",
       "      <td>Sidney Selby| Adnan Khan</td>\n",
       "      <td></td>\n",
       "      <td>Panda</td>\n",
       "    </tr>\n",
       "    <tr>\n",
       "      <th>1</th>\n",
       "      <td>hZyOA+0yqClPLt6uIEndf8fG8szH/95eKMbaxLE5z30=</td>\n",
       "      <td>3Hg5kugV1S0wzEVLAEfqjIV5UHzb7bCrdBRQlGygLvU=</td>\n",
       "      <td>1259</td>\n",
       "      <td>Desiigner</td>\n",
       "      <td>Sidney Selby| Adnan Khan</td>\n",
       "      <td></td>\n",
       "      <td>Panda</td>\n",
       "    </tr>\n",
       "    <tr>\n",
       "      <th>2</th>\n",
       "      <td>0LhkakIQDn36HZXI6ClQSO7W7jkpZAy+9MvYgPOZGrA=</td>\n",
       "      <td>skehue/d/R59G71dXYpntDwdjRRPlweN3JE8g40TgZU=</td>\n",
       "      <td>458</td>\n",
       "      <td>莊心妍</td>\n",
       "      <td>鄭建浩</td>\n",
       "      <td>鄭建浩</td>\n",
       "      <td>我過的很好</td>\n",
       "    </tr>\n",
       "    <tr>\n",
       "      <th>3</th>\n",
       "      <td>MofmAMt7P8LIcF4+LLlcjyIhYUzmv13L/LRwYFxiGYE=</td>\n",
       "      <td>skehue/d/R59G71dXYpntDwdjRRPlweN3JE8g40TgZU=</td>\n",
       "      <td>458</td>\n",
       "      <td>莊心妍</td>\n",
       "      <td>鄭建浩</td>\n",
       "      <td>鄭建浩</td>\n",
       "      <td>我過的很好</td>\n",
       "    </tr>\n",
       "    <tr>\n",
       "      <th>4</th>\n",
       "      <td>U9Z+N+szYGJHTPMn/C0V7yIyIC24fDI0RDRWChXATkg=</td>\n",
       "      <td>skehue/d/R59G71dXYpntDwdjRRPlweN3JE8g40TgZU=</td>\n",
       "      <td>458</td>\n",
       "      <td>莊心妍</td>\n",
       "      <td>鄭建浩</td>\n",
       "      <td>鄭建浩</td>\n",
       "      <td>我過的很好</td>\n",
       "    </tr>\n",
       "  </tbody>\n",
       "</table>\n",
       "</div>"
      ],
      "text/plain": [
       "                                        user_id  \\\n",
       "0  FGtllVqz18RPiwJj/edr2gV78zirAiY/9SmYvia+kCg=   \n",
       "1  hZyOA+0yqClPLt6uIEndf8fG8szH/95eKMbaxLE5z30=   \n",
       "2  0LhkakIQDn36HZXI6ClQSO7W7jkpZAy+9MvYgPOZGrA=   \n",
       "3  MofmAMt7P8LIcF4+LLlcjyIhYUzmv13L/LRwYFxiGYE=   \n",
       "4  U9Z+N+szYGJHTPMn/C0V7yIyIC24fDI0RDRWChXATkg=   \n",
       "\n",
       "                                        song_id genre_ids artist_name  \\\n",
       "0  3Hg5kugV1S0wzEVLAEfqjIV5UHzb7bCrdBRQlGygLvU=      1259   Desiigner   \n",
       "1  3Hg5kugV1S0wzEVLAEfqjIV5UHzb7bCrdBRQlGygLvU=      1259   Desiigner   \n",
       "2  skehue/d/R59G71dXYpntDwdjRRPlweN3JE8g40TgZU=       458         莊心妍   \n",
       "3  skehue/d/R59G71dXYpntDwdjRRPlweN3JE8g40TgZU=       458         莊心妍   \n",
       "4  skehue/d/R59G71dXYpntDwdjRRPlweN3JE8g40TgZU=       458         莊心妍   \n",
       "\n",
       "                   composer lyricist song_name  \n",
       "0  Sidney Selby| Adnan Khan              Panda  \n",
       "1  Sidney Selby| Adnan Khan              Panda  \n",
       "2                       鄭建浩      鄭建浩     我過的很好  \n",
       "3                       鄭建浩      鄭建浩     我過的很好  \n",
       "4                       鄭建浩      鄭建浩     我過的很好  "
      ]
     },
     "execution_count": 23,
     "metadata": {},
     "output_type": "execute_result"
    }
   ],
   "source": [
    "df.rename(columns={'name':'song_name'},inplace=True)\n",
    "df.head()"
   ]
  },
  {
   "cell_type": "code",
   "execution_count": 24,
   "id": "5a4dee76",
   "metadata": {},
   "outputs": [
    {
     "data": {
      "text/plain": [
       "465                    710\n",
       "458                    400\n",
       "444                     65\n",
       "1609                    57\n",
       "921                     49\n",
       "359                     32\n",
       "                        26\n",
       "139                     24\n",
       "2022                    21\n",
       "1259                    20\n",
       "2122                    13\n",
       "139|125|109              7\n",
       "726                      7\n",
       "451                      7\n",
       "437                      7\n",
       "958                      6\n",
       "786|947                  6\n",
       "465|1259                 4\n",
       "1011                     4\n",
       "786                      4\n",
       "947                      4\n",
       "691                      3\n",
       "921|465                  3\n",
       "430                      3\n",
       "921|458                  2\n",
       "458|1287                 2\n",
       "698                      2\n",
       "444|1259                 2\n",
       "829                      2\n",
       "850                      2\n",
       "1152                     1\n",
       "880|458                  1\n",
       "465|829                  1\n",
       "864|857|850|843          1\n",
       "465|798                  1\n",
       "474                      1\n",
       "864|850|726|857|843      1\n",
       "388                      1\n",
       "864|786|850|857|843      1\n",
       "940                      1\n",
       "1609|465                 1\n",
       "465|2122                 1\n",
       "423                      1\n",
       "726|242                  1\n",
       "437|850                  1\n",
       "Name: genre_ids, dtype: int64"
      ]
     },
     "execution_count": 24,
     "metadata": {},
     "output_type": "execute_result"
    }
   ],
   "source": [
    "df['genre_ids'].value_counts()"
   ]
  },
  {
   "cell_type": "code",
   "execution_count": 25,
   "id": "82c91240",
   "metadata": {},
   "outputs": [
    {
     "data": {
      "text/plain": [
       "465                    710\n",
       "458                    400\n",
       "444                     65\n",
       "1609                    57\n",
       "921                     49\n",
       "359                     32\n",
       "                        26\n",
       "139                     24\n",
       "2022                    21\n",
       "1259                    20\n",
       "2122                    13\n",
       "139 125 109              7\n",
       "726                      7\n",
       "451                      7\n",
       "437                      7\n",
       "958                      6\n",
       "786 947                  6\n",
       "465 1259                 4\n",
       "1011                     4\n",
       "786                      4\n",
       "947                      4\n",
       "691                      3\n",
       "921 465                  3\n",
       "430                      3\n",
       "921 458                  2\n",
       "458 1287                 2\n",
       "698                      2\n",
       "444 1259                 2\n",
       "829                      2\n",
       "850                      2\n",
       "1152                     1\n",
       "880 458                  1\n",
       "465 829                  1\n",
       "864 857 850 843          1\n",
       "465 798                  1\n",
       "474                      1\n",
       "864 850 726 857 843      1\n",
       "388                      1\n",
       "864 786 850 857 843      1\n",
       "940                      1\n",
       "1609 465                 1\n",
       "465 2122                 1\n",
       "423                      1\n",
       "726 242                  1\n",
       "437 850                  1\n",
       "Name: genre_ids, dtype: int64"
      ]
     },
     "execution_count": 25,
     "metadata": {},
     "output_type": "execute_result"
    }
   ],
   "source": [
    "df['genre_ids']=df['genre_ids'].str.replace('|',' ',regex=True)\n",
    "df['genre_ids'].value_counts()"
   ]
  },
  {
   "cell_type": "code",
   "execution_count": 26,
   "id": "e6c4421e",
   "metadata": {},
   "outputs": [],
   "source": [
    "df['artist_name']=df['artist_name'].str.replace('|',' ',regex=True)\n",
    "df['artist_name']=df['artist_name'].str.replace('/',' ',regex=True)\n",
    "\n",
    "df['composer']=df['composer'].str.replace('|',' ',regex=True)\n",
    "df['composer']=df['composer'].str.replace('/',' ',regex=True)\n",
    "\n",
    "df['lyricist']=df['lyricist'].str.replace('|',' ',regex=True)\n",
    "df['lyricist']=df['lyricist'].str.replace('/',' ',regex=True)\n"
   ]
  },
  {
   "cell_type": "code",
   "execution_count": 27,
   "id": "ac89fac7",
   "metadata": {},
   "outputs": [],
   "source": [
    "df['artist_name']=df['artist_name'].str.lower()\n",
    "df['composer']=df['composer'].str.lower()\n",
    "df['lyricist']=df['lyricist'].str.lower()"
   ]
  },
  {
   "cell_type": "code",
   "execution_count": 82,
   "id": "f1bc1b85",
   "metadata": {},
   "outputs": [
    {
     "data": {
      "text/html": [
       "<div>\n",
       "<style scoped>\n",
       "    .dataframe tbody tr th:only-of-type {\n",
       "        vertical-align: middle;\n",
       "    }\n",
       "\n",
       "    .dataframe tbody tr th {\n",
       "        vertical-align: top;\n",
       "    }\n",
       "\n",
       "    .dataframe thead th {\n",
       "        text-align: right;\n",
       "    }\n",
       "</style>\n",
       "<table border=\"1\" class=\"dataframe\">\n",
       "  <thead>\n",
       "    <tr style=\"text-align: right;\">\n",
       "      <th></th>\n",
       "      <th>user_id</th>\n",
       "      <th>song_id</th>\n",
       "      <th>genre_ids</th>\n",
       "      <th>artist_name</th>\n",
       "      <th>composer</th>\n",
       "      <th>lyricist</th>\n",
       "      <th>song_name</th>\n",
       "      <th>songs_details</th>\n",
       "    </tr>\n",
       "  </thead>\n",
       "  <tbody>\n",
       "    <tr>\n",
       "      <th>0</th>\n",
       "      <td>FGtllVqz18RPiwJj/edr2gV78zirAiY/9SmYvia+kCg=</td>\n",
       "      <td>3Hg5kugV1S0wzEVLAEfqjIV5UHzb7bCrdBRQlGygLvU=</td>\n",
       "      <td>1259</td>\n",
       "      <td>desiigner</td>\n",
       "      <td>sidney selby  adnan khan</td>\n",
       "      <td></td>\n",
       "      <td>Panda</td>\n",
       "      <td>desiignersidney selby  adnan khan</td>\n",
       "    </tr>\n",
       "    <tr>\n",
       "      <th>1</th>\n",
       "      <td>hZyOA+0yqClPLt6uIEndf8fG8szH/95eKMbaxLE5z30=</td>\n",
       "      <td>3Hg5kugV1S0wzEVLAEfqjIV5UHzb7bCrdBRQlGygLvU=</td>\n",
       "      <td>1259</td>\n",
       "      <td>desiigner</td>\n",
       "      <td>sidney selby  adnan khan</td>\n",
       "      <td></td>\n",
       "      <td>Panda</td>\n",
       "      <td>desiignersidney selby  adnan khan</td>\n",
       "    </tr>\n",
       "    <tr>\n",
       "      <th>2</th>\n",
       "      <td>0LhkakIQDn36HZXI6ClQSO7W7jkpZAy+9MvYgPOZGrA=</td>\n",
       "      <td>skehue/d/R59G71dXYpntDwdjRRPlweN3JE8g40TgZU=</td>\n",
       "      <td>458</td>\n",
       "      <td>莊心妍</td>\n",
       "      <td>鄭建浩</td>\n",
       "      <td>鄭建浩</td>\n",
       "      <td>我過的很好</td>\n",
       "      <td>莊心妍鄭建浩鄭建浩</td>\n",
       "    </tr>\n",
       "    <tr>\n",
       "      <th>3</th>\n",
       "      <td>MofmAMt7P8LIcF4+LLlcjyIhYUzmv13L/LRwYFxiGYE=</td>\n",
       "      <td>skehue/d/R59G71dXYpntDwdjRRPlweN3JE8g40TgZU=</td>\n",
       "      <td>458</td>\n",
       "      <td>莊心妍</td>\n",
       "      <td>鄭建浩</td>\n",
       "      <td>鄭建浩</td>\n",
       "      <td>我過的很好</td>\n",
       "      <td>莊心妍鄭建浩鄭建浩</td>\n",
       "    </tr>\n",
       "    <tr>\n",
       "      <th>4</th>\n",
       "      <td>U9Z+N+szYGJHTPMn/C0V7yIyIC24fDI0RDRWChXATkg=</td>\n",
       "      <td>skehue/d/R59G71dXYpntDwdjRRPlweN3JE8g40TgZU=</td>\n",
       "      <td>458</td>\n",
       "      <td>莊心妍</td>\n",
       "      <td>鄭建浩</td>\n",
       "      <td>鄭建浩</td>\n",
       "      <td>我過的很好</td>\n",
       "      <td>莊心妍鄭建浩鄭建浩</td>\n",
       "    </tr>\n",
       "  </tbody>\n",
       "</table>\n",
       "</div>"
      ],
      "text/plain": [
       "                                        user_id  \\\n",
       "0  FGtllVqz18RPiwJj/edr2gV78zirAiY/9SmYvia+kCg=   \n",
       "1  hZyOA+0yqClPLt6uIEndf8fG8szH/95eKMbaxLE5z30=   \n",
       "2  0LhkakIQDn36HZXI6ClQSO7W7jkpZAy+9MvYgPOZGrA=   \n",
       "3  MofmAMt7P8LIcF4+LLlcjyIhYUzmv13L/LRwYFxiGYE=   \n",
       "4  U9Z+N+szYGJHTPMn/C0V7yIyIC24fDI0RDRWChXATkg=   \n",
       "\n",
       "                                        song_id genre_ids artist_name  \\\n",
       "0  3Hg5kugV1S0wzEVLAEfqjIV5UHzb7bCrdBRQlGygLvU=      1259   desiigner   \n",
       "1  3Hg5kugV1S0wzEVLAEfqjIV5UHzb7bCrdBRQlGygLvU=      1259   desiigner   \n",
       "2  skehue/d/R59G71dXYpntDwdjRRPlweN3JE8g40TgZU=       458         莊心妍   \n",
       "3  skehue/d/R59G71dXYpntDwdjRRPlweN3JE8g40TgZU=       458         莊心妍   \n",
       "4  skehue/d/R59G71dXYpntDwdjRRPlweN3JE8g40TgZU=       458         莊心妍   \n",
       "\n",
       "                   composer lyricist song_name  \\\n",
       "0  sidney selby  adnan khan              Panda   \n",
       "1  sidney selby  adnan khan              Panda   \n",
       "2                       鄭建浩      鄭建浩     我過的很好   \n",
       "3                       鄭建浩      鄭建浩     我過的很好   \n",
       "4                       鄭建浩      鄭建浩     我過的很好   \n",
       "\n",
       "                        songs_details  \n",
       "0  desiignersidney selby  adnan khan   \n",
       "1  desiignersidney selby  adnan khan   \n",
       "2                           莊心妍鄭建浩鄭建浩  \n",
       "3                           莊心妍鄭建浩鄭建浩  \n",
       "4                           莊心妍鄭建浩鄭建浩  "
      ]
     },
     "execution_count": 82,
     "metadata": {},
     "output_type": "execute_result"
    }
   ],
   "source": [
    "df['songs_details']=df['artist_name']+''+df['composer']+df['lyricist']\n",
    "df.head()"
   ]
  },
  {
   "cell_type": "code",
   "execution_count": 83,
   "id": "9d5685d9",
   "metadata": {},
   "outputs": [
    {
     "data": {
      "text/plain": [
       "EozJegFxTFIWDb9aJ7O8kSUHAgx4ZIvqf7IuN5Zck50=    19\n",
       "V5U4EGk2kaSKaUGSwhU6g3HBefxflEvAy1vWPu6UBQs=    18\n",
       "Bwg9yS76qujJJeKsYSzfJrMlkjK5Ui7KFkgUcjuXRCg=    12\n",
       "W9NYSCff57nmfyYCiX6IbW0/G3YuwC18h/rld+BGxMY=    11\n",
       "UzlQoa9tdrcpYdh4wksoh+SpWCFcKvRGPA+xLNqghmo=    11\n",
       "                                                ..\n",
       "rb7TT328utsdnd8COyhstig0zciXIURo7M464E60EHg=     1\n",
       "hSn7jMfIURFu+1W3PDIDTxbhM5SxRg9VFRoH23Rm2Ic=     1\n",
       "yrMfQXudhDaA/bOePZtkKErbjZc5pALG79FHPayEy5U=     1\n",
       "iP3eF1In0rH61CfgVmWVYj4CgFcQQ0iVZG7MBA+Plgo=     1\n",
       "j2Sx5B7BrjqCiT3ZwWK4AvepwM14QEalhTPi2/sgdG4=     1\n",
       "Name: user_id, Length: 975, dtype: int64"
      ]
     },
     "execution_count": 83,
     "metadata": {},
     "output_type": "execute_result"
    }
   ],
   "source": [
    "df.user_id.value_counts()"
   ]
  },
  {
   "cell_type": "code",
   "execution_count": 84,
   "id": "da62eeef",
   "metadata": {},
   "outputs": [
    {
     "data": {
      "text/plain": [
       "0"
      ]
     },
     "execution_count": 84,
     "metadata": {},
     "output_type": "execute_result"
    }
   ],
   "source": [
    "df.duplicated().sum()"
   ]
  },
  {
   "cell_type": "code",
   "execution_count": 85,
   "id": "8410046b",
   "metadata": {},
   "outputs": [
    {
     "data": {
      "text/html": [
       "<div>\n",
       "<style scoped>\n",
       "    .dataframe tbody tr th:only-of-type {\n",
       "        vertical-align: middle;\n",
       "    }\n",
       "\n",
       "    .dataframe tbody tr th {\n",
       "        vertical-align: top;\n",
       "    }\n",
       "\n",
       "    .dataframe thead th {\n",
       "        text-align: right;\n",
       "    }\n",
       "</style>\n",
       "<table border=\"1\" class=\"dataframe\">\n",
       "  <thead>\n",
       "    <tr style=\"text-align: right;\">\n",
       "      <th></th>\n",
       "      <th>user_id</th>\n",
       "      <th>song_id</th>\n",
       "      <th>genre_ids</th>\n",
       "      <th>artist_name</th>\n",
       "      <th>composer</th>\n",
       "      <th>lyricist</th>\n",
       "      <th>song_name</th>\n",
       "      <th>songs_details</th>\n",
       "    </tr>\n",
       "  </thead>\n",
       "  <tbody>\n",
       "    <tr>\n",
       "      <th>0</th>\n",
       "      <td>FGtllVqz18RPiwJj/edr2gV78zirAiY/9SmYvia+kCg=</td>\n",
       "      <td>3Hg5kugV1S0wzEVLAEfqjIV5UHzb7bCrdBRQlGygLvU=</td>\n",
       "      <td>1259</td>\n",
       "      <td>desiigner</td>\n",
       "      <td>sidney selby  adnan khan</td>\n",
       "      <td></td>\n",
       "      <td>Panda</td>\n",
       "      <td>desiignersidney selby  adnan khan</td>\n",
       "    </tr>\n",
       "    <tr>\n",
       "      <th>1</th>\n",
       "      <td>hZyOA+0yqClPLt6uIEndf8fG8szH/95eKMbaxLE5z30=</td>\n",
       "      <td>3Hg5kugV1S0wzEVLAEfqjIV5UHzb7bCrdBRQlGygLvU=</td>\n",
       "      <td>1259</td>\n",
       "      <td>desiigner</td>\n",
       "      <td>sidney selby  adnan khan</td>\n",
       "      <td></td>\n",
       "      <td>Panda</td>\n",
       "      <td>desiignersidney selby  adnan khan</td>\n",
       "    </tr>\n",
       "    <tr>\n",
       "      <th>2</th>\n",
       "      <td>0LhkakIQDn36HZXI6ClQSO7W7jkpZAy+9MvYgPOZGrA=</td>\n",
       "      <td>skehue/d/R59G71dXYpntDwdjRRPlweN3JE8g40TgZU=</td>\n",
       "      <td>458</td>\n",
       "      <td>莊心妍</td>\n",
       "      <td>鄭建浩</td>\n",
       "      <td>鄭建浩</td>\n",
       "      <td>我過的很好</td>\n",
       "      <td>莊心妍鄭建浩鄭建浩</td>\n",
       "    </tr>\n",
       "    <tr>\n",
       "      <th>3</th>\n",
       "      <td>MofmAMt7P8LIcF4+LLlcjyIhYUzmv13L/LRwYFxiGYE=</td>\n",
       "      <td>skehue/d/R59G71dXYpntDwdjRRPlweN3JE8g40TgZU=</td>\n",
       "      <td>458</td>\n",
       "      <td>莊心妍</td>\n",
       "      <td>鄭建浩</td>\n",
       "      <td>鄭建浩</td>\n",
       "      <td>我過的很好</td>\n",
       "      <td>莊心妍鄭建浩鄭建浩</td>\n",
       "    </tr>\n",
       "    <tr>\n",
       "      <th>4</th>\n",
       "      <td>U9Z+N+szYGJHTPMn/C0V7yIyIC24fDI0RDRWChXATkg=</td>\n",
       "      <td>skehue/d/R59G71dXYpntDwdjRRPlweN3JE8g40TgZU=</td>\n",
       "      <td>458</td>\n",
       "      <td>莊心妍</td>\n",
       "      <td>鄭建浩</td>\n",
       "      <td>鄭建浩</td>\n",
       "      <td>我過的很好</td>\n",
       "      <td>莊心妍鄭建浩鄭建浩</td>\n",
       "    </tr>\n",
       "  </tbody>\n",
       "</table>\n",
       "</div>"
      ],
      "text/plain": [
       "                                        user_id  \\\n",
       "0  FGtllVqz18RPiwJj/edr2gV78zirAiY/9SmYvia+kCg=   \n",
       "1  hZyOA+0yqClPLt6uIEndf8fG8szH/95eKMbaxLE5z30=   \n",
       "2  0LhkakIQDn36HZXI6ClQSO7W7jkpZAy+9MvYgPOZGrA=   \n",
       "3  MofmAMt7P8LIcF4+LLlcjyIhYUzmv13L/LRwYFxiGYE=   \n",
       "4  U9Z+N+szYGJHTPMn/C0V7yIyIC24fDI0RDRWChXATkg=   \n",
       "\n",
       "                                        song_id genre_ids artist_name  \\\n",
       "0  3Hg5kugV1S0wzEVLAEfqjIV5UHzb7bCrdBRQlGygLvU=      1259   desiigner   \n",
       "1  3Hg5kugV1S0wzEVLAEfqjIV5UHzb7bCrdBRQlGygLvU=      1259   desiigner   \n",
       "2  skehue/d/R59G71dXYpntDwdjRRPlweN3JE8g40TgZU=       458         莊心妍   \n",
       "3  skehue/d/R59G71dXYpntDwdjRRPlweN3JE8g40TgZU=       458         莊心妍   \n",
       "4  skehue/d/R59G71dXYpntDwdjRRPlweN3JE8g40TgZU=       458         莊心妍   \n",
       "\n",
       "                   composer lyricist song_name  \\\n",
       "0  sidney selby  adnan khan              Panda   \n",
       "1  sidney selby  adnan khan              Panda   \n",
       "2                       鄭建浩      鄭建浩     我過的很好   \n",
       "3                       鄭建浩      鄭建浩     我過的很好   \n",
       "4                       鄭建浩      鄭建浩     我過的很好   \n",
       "\n",
       "                        songs_details  \n",
       "0  desiignersidney selby  adnan khan   \n",
       "1  desiignersidney selby  adnan khan   \n",
       "2                           莊心妍鄭建浩鄭建浩  \n",
       "3                           莊心妍鄭建浩鄭建浩  \n",
       "4                           莊心妍鄭建浩鄭建浩  "
      ]
     },
     "execution_count": 85,
     "metadata": {},
     "output_type": "execute_result"
    }
   ],
   "source": [
    "temp_df=df.copy()\n",
    "temp_df.head()"
   ]
  },
  {
   "cell_type": "code",
   "execution_count": 86,
   "id": "1c3e7b3e",
   "metadata": {},
   "outputs": [
    {
     "data": {
      "text/plain": [
       "889"
      ]
     },
     "execution_count": 86,
     "metadata": {},
     "output_type": "execute_result"
    }
   ],
   "source": [
    "temp_df.songs_details.duplicated().sum()"
   ]
  },
  {
   "cell_type": "code",
   "execution_count": 87,
   "id": "1be9227a",
   "metadata": {},
   "outputs": [
    {
     "data": {
      "text/plain": [
       "(1509, 8)"
      ]
     },
     "execution_count": 87,
     "metadata": {},
     "output_type": "execute_result"
    }
   ],
   "source": [
    "temp_df.shape"
   ]
  },
  {
   "cell_type": "code",
   "execution_count": 88,
   "id": "03748397",
   "metadata": {},
   "outputs": [
    {
     "data": {
      "text/plain": [
       "0"
      ]
     },
     "execution_count": 88,
     "metadata": {},
     "output_type": "execute_result"
    }
   ],
   "source": [
    "temp_df.duplicated().sum()"
   ]
  },
  {
   "cell_type": "code",
   "execution_count": 98,
   "id": "058ab8de",
   "metadata": {},
   "outputs": [],
   "source": [
    "temp_df=temp_df.drop('user_id',axis=1)"
   ]
  },
  {
   "cell_type": "code",
   "execution_count": 99,
   "id": "382d300c",
   "metadata": {},
   "outputs": [
    {
     "data": {
      "text/html": [
       "<div>\n",
       "<style scoped>\n",
       "    .dataframe tbody tr th:only-of-type {\n",
       "        vertical-align: middle;\n",
       "    }\n",
       "\n",
       "    .dataframe tbody tr th {\n",
       "        vertical-align: top;\n",
       "    }\n",
       "\n",
       "    .dataframe thead th {\n",
       "        text-align: right;\n",
       "    }\n",
       "</style>\n",
       "<table border=\"1\" class=\"dataframe\">\n",
       "  <thead>\n",
       "    <tr style=\"text-align: right;\">\n",
       "      <th></th>\n",
       "      <th>song_id</th>\n",
       "      <th>genre_ids</th>\n",
       "      <th>artist_name</th>\n",
       "      <th>composer</th>\n",
       "      <th>lyricist</th>\n",
       "      <th>song_name</th>\n",
       "      <th>songs_details</th>\n",
       "    </tr>\n",
       "  </thead>\n",
       "  <tbody>\n",
       "    <tr>\n",
       "      <th>0</th>\n",
       "      <td>3Hg5kugV1S0wzEVLAEfqjIV5UHzb7bCrdBRQlGygLvU=</td>\n",
       "      <td>1259</td>\n",
       "      <td>desiigner</td>\n",
       "      <td>sidney selby  adnan khan</td>\n",
       "      <td></td>\n",
       "      <td>Panda</td>\n",
       "      <td>desiignersidney selby  adnan khan</td>\n",
       "    </tr>\n",
       "    <tr>\n",
       "      <th>1</th>\n",
       "      <td>3Hg5kugV1S0wzEVLAEfqjIV5UHzb7bCrdBRQlGygLvU=</td>\n",
       "      <td>1259</td>\n",
       "      <td>desiigner</td>\n",
       "      <td>sidney selby  adnan khan</td>\n",
       "      <td></td>\n",
       "      <td>Panda</td>\n",
       "      <td>desiignersidney selby  adnan khan</td>\n",
       "    </tr>\n",
       "    <tr>\n",
       "      <th>2</th>\n",
       "      <td>skehue/d/R59G71dXYpntDwdjRRPlweN3JE8g40TgZU=</td>\n",
       "      <td>458</td>\n",
       "      <td>莊心妍</td>\n",
       "      <td>鄭建浩</td>\n",
       "      <td>鄭建浩</td>\n",
       "      <td>我過的很好</td>\n",
       "      <td>莊心妍鄭建浩鄭建浩</td>\n",
       "    </tr>\n",
       "    <tr>\n",
       "      <th>3</th>\n",
       "      <td>skehue/d/R59G71dXYpntDwdjRRPlweN3JE8g40TgZU=</td>\n",
       "      <td>458</td>\n",
       "      <td>莊心妍</td>\n",
       "      <td>鄭建浩</td>\n",
       "      <td>鄭建浩</td>\n",
       "      <td>我過的很好</td>\n",
       "      <td>莊心妍鄭建浩鄭建浩</td>\n",
       "    </tr>\n",
       "    <tr>\n",
       "      <th>4</th>\n",
       "      <td>skehue/d/R59G71dXYpntDwdjRRPlweN3JE8g40TgZU=</td>\n",
       "      <td>458</td>\n",
       "      <td>莊心妍</td>\n",
       "      <td>鄭建浩</td>\n",
       "      <td>鄭建浩</td>\n",
       "      <td>我過的很好</td>\n",
       "      <td>莊心妍鄭建浩鄭建浩</td>\n",
       "    </tr>\n",
       "  </tbody>\n",
       "</table>\n",
       "</div>"
      ],
      "text/plain": [
       "                                        song_id genre_ids artist_name  \\\n",
       "0  3Hg5kugV1S0wzEVLAEfqjIV5UHzb7bCrdBRQlGygLvU=      1259   desiigner   \n",
       "1  3Hg5kugV1S0wzEVLAEfqjIV5UHzb7bCrdBRQlGygLvU=      1259   desiigner   \n",
       "2  skehue/d/R59G71dXYpntDwdjRRPlweN3JE8g40TgZU=       458         莊心妍   \n",
       "3  skehue/d/R59G71dXYpntDwdjRRPlweN3JE8g40TgZU=       458         莊心妍   \n",
       "4  skehue/d/R59G71dXYpntDwdjRRPlweN3JE8g40TgZU=       458         莊心妍   \n",
       "\n",
       "                   composer lyricist song_name  \\\n",
       "0  sidney selby  adnan khan              Panda   \n",
       "1  sidney selby  adnan khan              Panda   \n",
       "2                       鄭建浩      鄭建浩     我過的很好   \n",
       "3                       鄭建浩      鄭建浩     我過的很好   \n",
       "4                       鄭建浩      鄭建浩     我過的很好   \n",
       "\n",
       "                        songs_details  \n",
       "0  desiignersidney selby  adnan khan   \n",
       "1  desiignersidney selby  adnan khan   \n",
       "2                           莊心妍鄭建浩鄭建浩  \n",
       "3                           莊心妍鄭建浩鄭建浩  \n",
       "4                           莊心妍鄭建浩鄭建浩  "
      ]
     },
     "execution_count": 99,
     "metadata": {},
     "output_type": "execute_result"
    }
   ],
   "source": [
    "temp_df.head()"
   ]
  },
  {
   "cell_type": "code",
   "execution_count": 100,
   "id": "2e985e38",
   "metadata": {},
   "outputs": [
    {
     "data": {
      "text/plain": [
       "810"
      ]
     },
     "execution_count": 100,
     "metadata": {},
     "output_type": "execute_result"
    }
   ],
   "source": [
    "temp_df.duplicated().sum()"
   ]
  },
  {
   "cell_type": "code",
   "execution_count": 101,
   "id": "e93ee283",
   "metadata": {},
   "outputs": [
    {
     "data": {
      "text/html": [
       "<div>\n",
       "<style scoped>\n",
       "    .dataframe tbody tr th:only-of-type {\n",
       "        vertical-align: middle;\n",
       "    }\n",
       "\n",
       "    .dataframe tbody tr th {\n",
       "        vertical-align: top;\n",
       "    }\n",
       "\n",
       "    .dataframe thead th {\n",
       "        text-align: right;\n",
       "    }\n",
       "</style>\n",
       "<table border=\"1\" class=\"dataframe\">\n",
       "  <thead>\n",
       "    <tr style=\"text-align: right;\">\n",
       "      <th></th>\n",
       "      <th>song_id</th>\n",
       "      <th>genre_ids</th>\n",
       "      <th>artist_name</th>\n",
       "      <th>composer</th>\n",
       "      <th>lyricist</th>\n",
       "      <th>song_name</th>\n",
       "      <th>songs_details</th>\n",
       "    </tr>\n",
       "  </thead>\n",
       "  <tbody>\n",
       "    <tr>\n",
       "      <th>0</th>\n",
       "      <td>3Hg5kugV1S0wzEVLAEfqjIV5UHzb7bCrdBRQlGygLvU=</td>\n",
       "      <td>1259</td>\n",
       "      <td>desiigner</td>\n",
       "      <td>sidney selby  adnan khan</td>\n",
       "      <td></td>\n",
       "      <td>Panda</td>\n",
       "      <td>desiignersidney selby  adnan khan</td>\n",
       "    </tr>\n",
       "    <tr>\n",
       "      <th>2</th>\n",
       "      <td>skehue/d/R59G71dXYpntDwdjRRPlweN3JE8g40TgZU=</td>\n",
       "      <td>458</td>\n",
       "      <td>莊心妍</td>\n",
       "      <td>鄭建浩</td>\n",
       "      <td>鄭建浩</td>\n",
       "      <td>我過的很好</td>\n",
       "      <td>莊心妍鄭建浩鄭建浩</td>\n",
       "    </tr>\n",
       "    <tr>\n",
       "      <th>21</th>\n",
       "      <td>reXuGcEWDDCnL0K3Th//3DFG4S1ACSpJMzA+CFipo1g=</td>\n",
       "      <td>458</td>\n",
       "      <td>周湯豪 (nickthereal)</td>\n",
       "      <td>周湯豪</td>\n",
       "      <td>周湯豪\\崔惟楷</td>\n",
       "      <td>帥到分手</td>\n",
       "      <td>周湯豪 (nickthereal)周湯豪周湯豪\\崔惟楷</td>\n",
       "    </tr>\n",
       "    <tr>\n",
       "      <th>104</th>\n",
       "      <td>LBFRdBacp7Ob6Ada2N7uCQ47DhiNT2KjUtwOA7oSm7I=</td>\n",
       "      <td>458</td>\n",
       "      <td>孫盛希 (shi shi)</td>\n",
       "      <td>孫盛希   matzka</td>\n",
       "      <td>林婉瑜</td>\n",
       "      <td>迷些路 (Lost On The Way)</td>\n",
       "      <td>孫盛希 (shi shi)孫盛希   matzka林婉瑜</td>\n",
       "    </tr>\n",
       "    <tr>\n",
       "      <th>135</th>\n",
       "      <td>Xy3cGOjm2V1MF7SZGA36NEC7b46NVBXvLnBDWXOl2FE=</td>\n",
       "      <td>437</td>\n",
       "      <td>ikimonogakari (いきものがかり)</td>\n",
       "      <td>yoshiki mizuno</td>\n",
       "      <td>yoshiki mizuno</td>\n",
       "      <td>Bokurano Yume</td>\n",
       "      <td>ikimonogakari (いきものがかり)yoshiki mizunoyoshiki m...</td>\n",
       "    </tr>\n",
       "  </tbody>\n",
       "</table>\n",
       "</div>"
      ],
      "text/plain": [
       "                                          song_id genre_ids  \\\n",
       "0    3Hg5kugV1S0wzEVLAEfqjIV5UHzb7bCrdBRQlGygLvU=      1259   \n",
       "2    skehue/d/R59G71dXYpntDwdjRRPlweN3JE8g40TgZU=       458   \n",
       "21   reXuGcEWDDCnL0K3Th//3DFG4S1ACSpJMzA+CFipo1g=       458   \n",
       "104  LBFRdBacp7Ob6Ada2N7uCQ47DhiNT2KjUtwOA7oSm7I=       458   \n",
       "135  Xy3cGOjm2V1MF7SZGA36NEC7b46NVBXvLnBDWXOl2FE=       437   \n",
       "\n",
       "                 artist_name                  composer        lyricist  \\\n",
       "0                  desiigner  sidney selby  adnan khan                   \n",
       "2                        莊心妍                       鄭建浩             鄭建浩   \n",
       "21         周湯豪 (nickthereal)                       周湯豪         周湯豪\\崔惟楷   \n",
       "104            孫盛希 (shi shi)              孫盛希   matzka             林婉瑜   \n",
       "135  ikimonogakari (いきものがかり)            yoshiki mizuno  yoshiki mizuno   \n",
       "\n",
       "                 song_name                                      songs_details  \n",
       "0                    Panda                 desiignersidney selby  adnan khan   \n",
       "2                    我過的很好                                          莊心妍鄭建浩鄭建浩  \n",
       "21                    帥到分手                        周湯豪 (nickthereal)周湯豪周湯豪\\崔惟楷  \n",
       "104  迷些路 (Lost On The Way)                       孫盛希 (shi shi)孫盛希   matzka林婉瑜  \n",
       "135          Bokurano Yume  ikimonogakari (いきものがかり)yoshiki mizunoyoshiki m...  "
      ]
     },
     "execution_count": 101,
     "metadata": {},
     "output_type": "execute_result"
    }
   ],
   "source": [
    "temp_df=temp_df.drop_duplicates()\n",
    "temp_df.head()"
   ]
  },
  {
   "cell_type": "code",
   "execution_count": 102,
   "id": "62d03f6d",
   "metadata": {},
   "outputs": [
    {
     "data": {
      "text/plain": [
       "(699, 7)"
      ]
     },
     "execution_count": 102,
     "metadata": {},
     "output_type": "execute_result"
    }
   ],
   "source": [
    "temp_df.shape"
   ]
  },
  {
   "cell_type": "code",
   "execution_count": 109,
   "id": "cf24ccff",
   "metadata": {},
   "outputs": [],
   "source": [
    "from sklearn.metrics.pairwise import sigmoid_kernel"
   ]
  },
  {
   "cell_type": "code",
   "execution_count": 110,
   "id": "030644dd",
   "metadata": {},
   "outputs": [],
   "source": [
    "from sklearn.feature_extraction.text import TfidfVectorizer\n",
    "tfidf=TfidfVectorizer(analyzer='word',stop_words='english')\n",
    "tfidf_matrix=tfidf.fit_transform(temp_df['songs_details'])"
   ]
  },
  {
   "cell_type": "code",
   "execution_count": 111,
   "id": "115f3950",
   "metadata": {},
   "outputs": [],
   "source": [
    "sigmoid = sigmoid_kernel(tfidf_matrix, tfidf_matrix)\n",
    "indices = pd.Series(temp_df['songs_details'].index, index=temp_df['song_name'])"
   ]
  },
  {
   "cell_type": "code",
   "execution_count": 112,
   "id": "55a9087e",
   "metadata": {},
   "outputs": [],
   "source": [
    "def get_rec(song_name, sigmoid=sigmoid):\n",
    "    idx = indices[song_name]\n",
    "    sig_scores = list(enumerate(sigmoid[idx]))\n",
    "    sig_scores1 = sorted(sig_scores, key=lambda x: x[1], reverse=True)\n",
    "    sig_scores2 = sig_scores1[1:50]\n",
    "    song_indices = [i[0] for i in sig_scores2]\n",
    "    return temp_df['song_name'].iloc[song_indices]\n",
    "\n",
    "def get_id(song_name):\n",
    "    idx = indices[song_name]\n",
    "    sig_scores = list(enumerate(sigmoid[idx]))\n",
    "    sig_scores = sorted(sig_scores, key=lambda x: x[1], reverse=True)\n",
    "    sig_scores = sig_scores[1:50]\n",
    "    song_indices = [i[0] for i in sig_scores]\n",
    "    return temp_df['song_name'].iloc[song_indices]"
   ]
  },
  {
   "cell_type": "code",
   "execution_count": 113,
   "id": "bf3e4298",
   "metadata": {},
   "outputs": [],
   "source": [
    "user =temp_df['song_name'].tolist()"
   ]
  },
  {
   "cell_type": "code",
   "execution_count": 114,
   "id": "c6e9accf",
   "metadata": {},
   "outputs": [
    {
     "ename": "IndexError",
     "evalue": "index 930 is out of bounds for axis 0 with size 699",
     "output_type": "error",
     "traceback": [
      "\u001b[1;31m---------------------------------------------------------------------------\u001b[0m",
      "\u001b[1;31mIndexError\u001b[0m                                Traceback (most recent call last)",
      "Input \u001b[1;32mIn [114]\u001b[0m, in \u001b[0;36m<cell line: 1>\u001b[1;34m()\u001b[0m\n\u001b[1;32m----> 1\u001b[0m \u001b[43mget_rec\u001b[49m\u001b[43m(\u001b[49m\u001b[43muser\u001b[49m\u001b[43m)\u001b[49m\n",
      "Input \u001b[1;32mIn [112]\u001b[0m, in \u001b[0;36mget_rec\u001b[1;34m(song_name, sigmoid)\u001b[0m\n\u001b[0;32m      1\u001b[0m \u001b[38;5;28;01mdef\u001b[39;00m \u001b[38;5;21mget_rec\u001b[39m(song_name, sigmoid\u001b[38;5;241m=\u001b[39msigmoid):\n\u001b[0;32m      2\u001b[0m     idx \u001b[38;5;241m=\u001b[39m indices[song_name]\n\u001b[1;32m----> 3\u001b[0m     sig_scores \u001b[38;5;241m=\u001b[39m \u001b[38;5;28mlist\u001b[39m(\u001b[38;5;28menumerate\u001b[39m(\u001b[43msigmoid\u001b[49m\u001b[43m[\u001b[49m\u001b[43midx\u001b[49m\u001b[43m]\u001b[49m))\n\u001b[0;32m      4\u001b[0m     sig_scores1 \u001b[38;5;241m=\u001b[39m \u001b[38;5;28msorted\u001b[39m(sig_scores, key\u001b[38;5;241m=\u001b[39m\u001b[38;5;28;01mlambda\u001b[39;00m x: x[\u001b[38;5;241m1\u001b[39m], reverse\u001b[38;5;241m=\u001b[39m\u001b[38;5;28;01mTrue\u001b[39;00m)\n\u001b[0;32m      5\u001b[0m     sig_scores2 \u001b[38;5;241m=\u001b[39m sig_scores1[\u001b[38;5;241m1\u001b[39m:\u001b[38;5;241m50\u001b[39m]\n",
      "\u001b[1;31mIndexError\u001b[0m: index 930 is out of bounds for axis 0 with size 699"
     ]
    }
   ],
   "source": [
    "get_rec(user)"
   ]
  },
  {
   "cell_type": "code",
   "execution_count": null,
   "id": "2943f639",
   "metadata": {},
   "outputs": [],
   "source": []
  }
 ],
 "metadata": {
  "kernelspec": {
   "display_name": "Python 3 (ipykernel)",
   "language": "python",
   "name": "python3"
  },
  "language_info": {
   "codemirror_mode": {
    "name": "ipython",
    "version": 3
   },
   "file_extension": ".py",
   "mimetype": "text/x-python",
   "name": "python",
   "nbconvert_exporter": "python",
   "pygments_lexer": "ipython3",
   "version": "3.9.12"
  }
 },
 "nbformat": 4,
 "nbformat_minor": 5
}
